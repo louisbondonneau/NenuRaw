{
 "cells": [
  {
   "cell_type": "code",
   "execution_count": 1,
   "metadata": {},
   "outputs": [
    {
     "name": "stderr",
     "output_type": "stream",
     "text": [
      "\n",
      "Bad key backend.qt4 in file /home/lbondonneau/.config/matplotlib/matplotlibrc, line 6 ('backend.qt4        : PyQt4')\n",
      "You probably need to get an updated matplotlibrc file from\n",
      "https://github.com/matplotlib/matplotlib/blob/v3.7.5/lib/matplotlib/mpl-data/matplotlibrc\n",
      "or from the matplotlib source distribution\n"
     ]
    }
   ],
   "source": [
    "# %matplotlib widget\n",
    "import matplotlib.pyplot as plt\n",
    "from pathlib import Path\n",
    "import numpy as np"
   ]
  },
  {
   "cell_type": "code",
   "execution_count": 2,
   "metadata": {},
   "outputs": [],
   "source": [
    "from NenuRaw_module import Rawtf"
   ]
  },
  {
   "cell_type": "code",
   "execution_count": 3,
   "metadata": {},
   "outputs": [],
   "source": [
    "fn_raw = Path('/databf2/nenufar-tf/ES00/2022/02/20220228_154600_20220228_155400_B0809+74_TRACKING/B0809+74_TRACKING_20220228_154637_2.raw')"
   ]
  },
  {
   "cell_type": "code",
   "execution_count": 4,
   "metadata": {},
   "outputs": [
    {
     "name": "stdout",
     "output_type": "stream",
     "text": [
      "int8 67043328\n",
      "  blocksize_header  is: 67043328 -> 0.447 sec\n",
      "  blocksize_file    is: 67043328\n",
      "  overlap    is: 0\n",
      "  nbit       is: 8\n",
      "  head_size  is: 2316\n"
     ]
    }
   ],
   "source": [
    "file_format = Rawtf(fn_raw, verbose=True)"
   ]
  },
  {
   "cell_type": "code",
   "execution_count": 5,
   "metadata": {},
   "outputs": [
    {
     "data": {
      "text/plain": [
       "(87296, 192, 4)"
      ]
     },
     "execution_count": 5,
     "metadata": {},
     "output_type": "execute_result"
    }
   ],
   "source": [
    "block_num = 0\n",
    "block = file_format.data['data'][block_num]\n",
    "block.shape = (int(file_format.nschan_file / file_format.nof_polcpx), file_format.nchan_file, file_format.nof_polcpx)\n",
    "nbin, nchan, npol = np.shape(block)\n",
    "np.shape(block)"
   ]
  },
  {
   "cell_type": "code",
   "execution_count": 6,
   "metadata": {},
   "outputs": [],
   "source": [
    "# block = block.transpose((1, 0, 2))\n",
    "# np.shape(block)"
   ]
  },
  {
   "cell_type": "code",
   "execution_count": 10,
   "metadata": {},
   "outputs": [
    {
     "name": "stdout",
     "output_type": "stream",
     "text": [
      "Using a single block can go down to 2.2374 Hz with fftlen of 87296\n"
     ]
    }
   ],
   "source": [
    "block_length = nbin * file_format.tbin\n",
    "min_freq_res = file_format.chan_bw / nbin\n",
    "print(f\"Using a single block can go down to {min_freq_res * 1e6:.4f} Hz with fftlen of {nbin}\")"
   ]
  },
  {
   "cell_type": "code",
   "execution_count": 8,
   "metadata": {},
   "outputs": [
    {
     "data": {
      "text/plain": [
       "(16760832, 4)"
      ]
     },
     "execution_count": 8,
     "metadata": {},
     "output_type": "execute_result"
    }
   ],
   "source": [
    "test = np.fft.fft(block, axis=0)\n",
    "test = test.transpose((1, 0, 2))\n",
    "test = test.reshape((nbin * nchan, npol))\n",
    "np.shape(test)"
   ]
  },
  {
   "cell_type": "code",
   "execution_count": 9,
   "metadata": {},
   "outputs": [
    {
     "name": "stderr",
     "output_type": "stream",
     "text": [
      "findfont: Font family 'Bitstream Vera Sans' not found.\n",
      "findfont: Font family 'Bitstream Vera Sans' not found.\n",
      "findfont: Font family 'Bitstream Vera Sans' not found.\n",
      "findfont: Font family 'Bitstream Vera Sans' not found.\n",
      "findfont: Font family 'Bitstream Vera Sans' not found.\n",
      "findfont: Font family 'Bitstream Vera Sans' not found.\n",
      "findfont: Font family 'Bitstream Vera Sans' not found.\n",
      "findfont: Font family 'Bitstream Vera Sans' not found.\n",
      "findfont: Font family 'Bitstream Vera Sans' not found.\n",
      "findfont: Font family 'Bitstream Vera Sans' not found.\n",
      "findfont: Font family 'Bitstream Vera Sans' not found.\n",
      "findfont: Font family 'Bitstream Vera Sans' not found.\n",
      "findfont: Font family 'Bitstream Vera Sans' not found.\n",
      "findfont: Font family 'Bitstream Vera Sans' not found.\n",
      "findfont: Font family 'Bitstream Vera Sans' not found.\n",
      "findfont: Font family 'Bitstream Vera Sans' not found.\n",
      "findfont: Font family 'Bitstream Vera Sans' not found.\n",
      "findfont: Font family 'Bitstream Vera Sans' not found.\n",
      "findfont: Font family 'Bitstream Vera Sans' not found.\n",
      "findfont: Font family 'Bitstream Vera Sans' not found.\n",
      "findfont: Font family 'Bitstream Vera Sans' not found.\n",
      "findfont: Font family 'Bitstream Vera Sans' not found.\n",
      "findfont: Font family 'Bitstream Vera Sans' not found.\n",
      "findfont: Font family 'Bitstream Vera Sans' not found.\n",
      "findfont: Font family 'Bitstream Vera Sans' not found.\n",
      "findfont: Font family 'Bitstream Vera Sans' not found.\n",
      "findfont: Font family 'Bitstream Vera Sans' not found.\n",
      "findfont: Font family 'Bitstream Vera Sans' not found.\n",
      "findfont: Font family 'Bitstream Vera Sans' not found.\n",
      "findfont: Font family 'Bitstream Vera Sans' not found.\n",
      "findfont: Font family 'Bitstream Vera Sans' not found.\n",
      "findfont: Font family 'Bitstream Vera Sans' not found.\n",
      "findfont: Font family 'Bitstream Vera Sans' not found.\n",
      "findfont: Font family 'Bitstream Vera Sans' not found.\n",
      "findfont: Font family 'Bitstream Vera Sans' not found.\n",
      "findfont: Font family 'Bitstream Vera Sans' not found.\n",
      "findfont: Font family 'Bitstream Vera Sans' not found.\n",
      "findfont: Font family 'Bitstream Vera Sans' not found.\n",
      "findfont: Font family 'Bitstream Vera Sans' not found.\n",
      "findfont: Font family 'Bitstream Vera Sans' not found.\n",
      "findfont: Font family 'Bitstream Vera Sans' not found.\n",
      "findfont: Font family 'Bitstream Vera Sans' not found.\n",
      "findfont: Font family 'Bitstream Vera Sans' not found.\n",
      "findfont: Font family 'Bitstream Vera Sans' not found.\n",
      "findfont: Font family 'Bitstream Vera Sans' not found.\n",
      "findfont: Font family 'Bitstream Vera Sans' not found.\n",
      "findfont: Font family 'Bitstream Vera Sans' not found.\n",
      "findfont: Font family 'Bitstream Vera Sans' not found.\n",
      "findfont: Font family 'Bitstream Vera Sans' not found.\n",
      "findfont: Font family 'Bitstream Vera Sans' not found.\n"
     ]
    },
    {
     "data": {
      "image/png": "[encoded data removed]",
      "text/plain": [
       "<Figure size 640x480 with 1 Axes>"
      ]
     },
     "metadata": {},
     "output_type": "display_data"
    }
   ],
   "source": [
    "\n",
    "plt.plot(np.abs(test[:,0]) + np.abs(test[:,1]))\n",
    "plt.show()"
   ]
  }
 ],
 "metadata": {
  "kernelspec": {
   "display_name": ".venv",
   "language": "python",
   "name": "python3"
  },
  "language_info": {
   "codemirror_mode": {
    "name": "ipython",
    "version": 3
   },
   "file_extension": ".py",
   "mimetype": "text/x-python",
   "name": "python",
   "nbconvert_exporter": "python",
   "pygments_lexer": "ipython3",
   "version": "3.8.10"
  }
 },
 "nbformat": 4,
 "nbformat_minor": 2
}
